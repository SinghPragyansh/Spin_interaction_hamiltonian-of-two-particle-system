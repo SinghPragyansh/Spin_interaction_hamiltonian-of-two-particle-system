{
 "cells": [
  {
   "cell_type": "code",
   "execution_count": 1,
   "id": "909c388a",
   "metadata": {},
   "outputs": [],
   "source": [
    "import numpy as np\n",
    "import scipy.linalg as sal"
   ]
  },
  {
   "cell_type": "code",
   "execution_count": 2,
   "id": "9c5fed56",
   "metadata": {},
   "outputs": [],
   "source": [
    "def inner_product(left_vec, right_vec):\n",
    "    bra = (np.conj(left_vec)).T\n",
    "    ket = right_vec\n",
    "    inner_prod = bra @ ket\n",
    "    return inner_prod"
   ]
  },
  {
   "cell_type": "code",
   "execution_count": 3,
   "id": "f5c770d4",
   "metadata": {},
   "outputs": [],
   "source": [
    "def norm_column_vec(x):\n",
    "    # m, n = x.shape\n",
    "    inner_pro = inner_product(x, x)\n",
    "    # inner_prodcut is still a 1x1 array, lets extract the element and take its sqrt\n",
    "    norm = np.sqrt(np.squeeze(inner_pro))\n",
    "    x_norm = x / norm\n",
    "    return x_norm"
   ]
  },
  {
   "cell_type": "code",
   "execution_count": 5,
   "id": "4ff82e3b",
   "metadata": {},
   "outputs": [],
   "source": [
    "def individual_spin_operation_matrix():\n",
    "    S_1_2 = np.array([[3/4,0,0,0],[0,3/4,0,0],[0,0,3/4,0], [0,0,0,3/4]])\n",
    "    S_1z = np.array([[1/2,0,0,0],[0,1/2,0,0],[0,0,-1/2,0], [0,0,0,-1/2]])\n",
    "    S_2z = np.array([[1/2,0,0,0],[0,-1/2,0,0],[0,0,1/2,0], [0,0,0,-1/2]])\n",
    "    S_1_plus = np.array([[0,0,1,0],[0,0,0,1],[0,0,0,0], [0,0,0,0]])\n",
    "    S_2_plus = np.array([[0,1,0,0],[0,0,0,0],[0,0,0,1], [0,0,0,0]])\n",
    "    S_1_minus = np.array([[0,0,0,0],[0,0,0,0],[1,0,0,0], [0,1,0,0]])\n",
    "    S_2_minus = np.array([[0,0,0,0],[1,0,0,0],[0,0,0,0], [0,0,1,0]])\n",
    "    \n",
    "    operate = {\"S_1_2\": S_1_2,\n",
    "               \"S_2_2\": S_1_2,\n",
    "               \"S_1z\": S_1z,\n",
    "               \"S_2z\" : S_2z,\n",
    "               \"S_1_plus\": S_1_plus,\n",
    "               \"S_2_plus\" : S_2_plus,\n",
    "               \"S_1_minus\": S_1_minus,\n",
    "               \"S_2_minus\" : S_2_minus\n",
    "              }\n",
    "    return operate"
   ]
  },
  {
   "cell_type": "code",
   "execution_count": 6,
   "id": "1f99e024",
   "metadata": {},
   "outputs": [],
   "source": [
    "def S_2_operate(function_list):\n",
    "    l = len(function_list)\n",
    "    mat = np.zeros((l,l))\n",
    "    operate = individual_spin_operation_matrix()\n",
    "    S_1_2 = operate[\"S_1_2\"]\n",
    "    S_2_2 = operate[\"S_2_2\"]\n",
    "    S_1_plus = operate[\"S_1_plus\"]\n",
    "    S_2_plus = operate[\"S_2_plus\"]\n",
    "    S_1_minus = operate[\"S_1_minus\"]\n",
    "    S_2_minus = operate[\"S_2_minus\"]\n",
    "    S_1z = operate[\"S_1z\"]\n",
    "    S_2z = operate[\"S_2z\"]\n",
    "    \n",
    "    S_2_operation = S_1_2 + S_2_2 + 2*(0.5*(S_1_plus@S_2_minus+ S_1_minus@S_2_plus) + S_1z@S_2z)\n",
    "    \n",
    "    for i in range(l):\n",
    "        for j in range(l):\n",
    "            mat[i,j] = np.squeeze(function_list[i].T @ S_2_operation @ function_list[j])\n",
    "            \n",
    "    return mat"
   ]
  },
  {
   "cell_type": "code",
   "execution_count": 4,
   "id": "ff8ddf53",
   "metadata": {},
   "outputs": [],
   "source": [
    "def product_bases(eig_vec):\n",
    "    up_up = eig_vec[0].reshape(-1,1)\n",
    "    up_down = eig_vec[1].reshape(-1,1)\n",
    "    down_up = eig_vec[2].reshape(-1,1)\n",
    "    down_down = eig_vec[3].reshape(-1,1)\n",
    "    \n",
    "    function_list = [up_up, up_down, down_up, down_down]\n",
    "    function_dict = {\"up_up\": up_up,\n",
    "                \"up_down\": up_down,\n",
    "                \"down_up\": down_up,\n",
    "                \"down_down\": down_down}\n",
    "    return function_list, function_dict"
   ]
  },
  {
   "cell_type": "code",
   "execution_count": 7,
   "id": "a82f024e",
   "metadata": {},
   "outputs": [],
   "source": [
    "operate = individual_spin_operation_matrix()\n",
    "S_1_2 = operate[\"S_1_2\"]\n",
    "val, vec = sal.eig(S_1_2)\n",
    "function_list, function_dict = product_bases(vec)"
   ]
  },
  {
   "cell_type": "code",
   "execution_count": 10,
   "id": "85853f8e",
   "metadata": {},
   "outputs": [],
   "source": [
    "S_2_mat = S_2_operate(function_list)\n",
    "coupled_val ,coupled_vec = sal.eig(S_2_mat)\n",
    "CG_matrix = coupled_vec.T"
   ]
  },
  {
   "cell_type": "code",
   "execution_count": 11,
   "id": "af9d0b1f",
   "metadata": {},
   "outputs": [],
   "source": [
    "t1 = CG_matrix[2]\n",
    "t0 = CG_matrix[0]\n",
    "t_1 = CG_matrix[3]\n",
    "s0 = CG_matrix[1]\n",
    "coupled_states = {\"triplet1\": t1,\n",
    "                  \"triplet0\": t0,\n",
    "                  \"triplet_1\": t_1,\n",
    "                  \"singlet\": s0\n",
    "                 }"
   ]
  },
  {
   "cell_type": "markdown",
   "id": "15c33c90",
   "metadata": {},
   "source": [
    "\n",
    "                                ## Interaction Hamiltonian"
   ]
  },
  {
   "cell_type": "markdown",
   "id": "4019faa2",
   "metadata": {},
   "source": [
    "### H = lambda* (S1@S2)\n",
    "since, Hamiltonian here depends on all three compoents of S1 and S2;\n",
    "it will not commute with either S1z and S2z;\n",
    "hence, states of definite m1s, m2s, such as |alpha,alpha>, |beta, beta> can not be eigenfucntion of H. On the other hand, H does commutes with S^2 (the effective spin operator of whole system), as we can write \"S1 @ S2\" in terms of already known system operator(S^2) and individual spin operators(S1^2, S2^2);\n",
    "#### H = (lambda/2)* (S^2 - S1^2 - S2^2)"
   ]
  },
  {
   "cell_type": "code",
   "execution_count": 12,
   "id": "78fb27ad",
   "metadata": {},
   "outputs": [],
   "source": [
    "def interaction_hamiltonian(lambda_, S_2):\n",
    "    indi_spin_mat = individual_spin_operation_matrix()\n",
    "    S_1_2 = indi_spin_mat[\"S_1_2\"]\n",
    "    S_2_2 = indi_spin_mat[\"S_2_2\"]\n",
    "    H = (lambda_/2) * (S_2 - S_1_2 - S_2_2)\n",
    "    \n",
    "    return H"
   ]
  },
  {
   "cell_type": "code",
   "execution_count": 22,
   "id": "607c1c1a",
   "metadata": {},
   "outputs": [],
   "source": [
    "def interaction_energy_cal(left, right, lambda_, S_2):\n",
    "    left_vec = norm_column_vec(left)\n",
    "    right_vec = norm_column_vec(right)\n",
    "    H = interaction_hamiltonian(lambda_, S_2)\n",
    "    \n",
    "    e = left_vec.T @ H @ right_vec\n",
    "    \n",
    "    return e"
   ]
  },
  {
   "cell_type": "code",
   "execution_count": 29,
   "id": "3d5f20fe",
   "metadata": {},
   "outputs": [
    {
     "data": {
      "text/plain": [
       "-0.37500000000000006"
      ]
     },
     "execution_count": 29,
     "metadata": {},
     "output_type": "execute_result"
    }
   ],
   "source": [
    "lambda_ = 0.5\n",
    "bra_vec = coupled_states[\"singlet\"]\n",
    "ket_vec = coupled_states[\"singlet\"]\n",
    "e = interaction_energy_cal(bra_vec, ket_vec, lambda_, S_2_mat)\n",
    "e"
   ]
  }
 ],
 "metadata": {
  "kernelspec": {
   "display_name": "Python 3",
   "language": "python",
   "name": "python3"
  },
  "language_info": {
   "codemirror_mode": {
    "name": "ipython",
    "version": 3
   },
   "file_extension": ".py",
   "mimetype": "text/x-python",
   "name": "python",
   "nbconvert_exporter": "python",
   "pygments_lexer": "ipython3",
   "version": "3.8.8"
  }
 },
 "nbformat": 4,
 "nbformat_minor": 5
}
